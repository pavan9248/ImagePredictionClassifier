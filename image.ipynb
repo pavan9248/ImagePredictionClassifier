{
 "cells": [
  {
   "cell_type": "code",
   "execution_count": 1,
   "id": "fdafec57",
   "metadata": {},
   "outputs": [],
   "source": [
    "import tensorflow as tf\n",
    "from tensorflow.keras import datasets , layers , models\n",
    "import matplotlib.pyplot as plt \n",
    "import numpy as np\n"
   ]
  },
  {
   "cell_type": "code",
   "execution_count": 2,
   "id": "e432683f",
   "metadata": {},
   "outputs": [],
   "source": [
    "(x_train,y_train),(x_test,y_test)=datasets.cifar10.load_data()"
   ]
  },
  {
   "cell_type": "code",
   "execution_count": 3,
   "id": "d778c9b6",
   "metadata": {},
   "outputs": [
    {
     "data": {
      "text/plain": [
       "(50000, 32, 32, 3)"
      ]
     },
     "execution_count": 3,
     "metadata": {},
     "output_type": "execute_result"
    }
   ],
   "source": [
    "x_train.shape"
   ]
  },
  {
   "cell_type": "code",
   "execution_count": 4,
   "id": "532079fc",
   "metadata": {},
   "outputs": [
    {
     "data": {
      "text/plain": [
       "(10000, 32, 32, 3)"
      ]
     },
     "execution_count": 4,
     "metadata": {},
     "output_type": "execute_result"
    }
   ],
   "source": [
    "x_test.shape"
   ]
  },
  {
   "cell_type": "code",
   "execution_count": 5,
   "id": "291f7b59",
   "metadata": {
    "scrolled": true
   },
   "outputs": [
    {
     "data": {
      "text/plain": [
       "array([6, 9, 9, 4, 1], dtype=uint8)"
      ]
     },
     "execution_count": 5,
     "metadata": {},
     "output_type": "execute_result"
    }
   ],
   "source": [
    "y_train[:5]\n",
    "y_train=y_train.reshape(-1,)\n",
    "y_train[:5]"
   ]
  },
  {
   "cell_type": "code",
   "execution_count": 6,
   "id": "39b4daa2",
   "metadata": {},
   "outputs": [],
   "source": [
    "classes=[\"aeroplane\",\"automobile\",\"bird\",\"cat\",\"deer\",\"dog\",\"frog\",\"horse\",\"ship\",\"truck\"]"
   ]
  },
  {
   "cell_type": "code",
   "execution_count": 7,
   "id": "2da11198",
   "metadata": {},
   "outputs": [],
   "source": [
    "def plot_sample(x,y,index):\n",
    "    plt.figure(figsize=(15,2))\n",
    "    plt.imshow(x_train[index])\n",
    "    plt.xlabel(classes[y[index]])"
   ]
  },
  {
   "cell_type": "code",
   "execution_count": 8,
   "id": "91ec81a0",
   "metadata": {},
   "outputs": [
    {
     "data": {
      "image/png": "[encoded data removed]",
      "text/plain": [
       "<Figure size 1080x144 with 1 Axes>"
      ]
     },
     "metadata": {
      "needs_background": "light"
     },
     "output_type": "display_data"
    }
   ],
   "source": [
    "plot_sample(x_train,y_train,2)"
   ]
  },
  {
   "cell_type": "code",
   "execution_count": 9,
   "id": "4255ab17",
   "metadata": {},
   "outputs": [],
   "source": [
    "x_train=x_train/255\n",
    "x_test=x_test/255"
   ]
  },
  {
   "cell_type": "code",
   "execution_count": 10,
   "id": "bc64bf56",
   "metadata": {},
   "outputs": [
    {
     "name": "stdout",
     "output_type": "stream",
     "text": [
      "Epoch 1/2\n",
      "1563/1563 [==============================] - 141s 88ms/step - loss: 1.8854 - accuracy: 0.3267\n",
      "Epoch 2/2\n",
      "1563/1563 [==============================] - 135s 87ms/step - loss: 1.6673 - accuracy: 0.3995\n"
     ]
    },
    {
     "data": {
      "text/plain": [
       "<keras.callbacks.History at 0x272b0283d30>"
      ]
     },
     "execution_count": 10,
     "metadata": {},
     "output_type": "execute_result"
    }
   ],
   "source": [
    "model=models.Sequential([\n",
    "    layers.Flatten(input_shape=(32,32,3)),\n",
    "    layers.Dense(3000,activation='relu'),\n",
    "    layers.Dense(1000,activation='relu'),\n",
    "    layers.Dense(10,activation='sigmoid')\n",
    "])\n",
    "model.compile(optimizer='adam',\n",
    "              loss='sparse_categorical_crossentropy',\n",
    "              metrics=['accuracy'])\n",
    "model.fit(x_train,y_train,epochs=2)"
   ]
  },
  {
   "cell_type": "code",
   "execution_count": 11,
   "id": "d6106f66",
   "metadata": {},
   "outputs": [
    {
     "name": "stdout",
     "output_type": "stream",
     "text": [
      "313/313 [==============================] - 7s 15ms/step\n",
      "              precision    recall  f1-score   support\n",
      "\n",
      "           0       0.59      0.38      0.46      1000\n",
      "           1       0.51      0.52      0.51      1000\n",
      "           2       0.30      0.22      0.25      1000\n",
      "           3       0.31      0.28      0.30      1000\n",
      "           4       0.34      0.38      0.36      1000\n",
      "           5       0.37      0.34      0.36      1000\n",
      "           6       0.45      0.48      0.46      1000\n",
      "           7       0.50      0.46      0.48      1000\n",
      "           8       0.41      0.78      0.54      1000\n",
      "           9       0.52      0.41      0.46      1000\n",
      "\n",
      "    accuracy                           0.42     10000\n",
      "   macro avg       0.43      0.42      0.42     10000\n",
      "weighted avg       0.43      0.42      0.42     10000\n",
      "\n"
     ]
    }
   ],
   "source": [
    "from sklearn.metrics import confusion_matrix,classification_report\n",
    "ypred=model.predict(x_test)\n",
    "ypred_class=[np.argmax(element) for element in ypred]\n",
    "print(classification_report(y_test,ypred_class))"
   ]
  },
  {
   "cell_type": "code",
   "execution_count": 12,
   "id": "990bf86a",
   "metadata": {},
   "outputs": [
    {
     "name": "stdout",
     "output_type": "stream",
     "text": [
      "Epoch 1/2\n",
      "1563/1563 [==============================] - 150s 96ms/step - loss: 1.3548 - accuracy: 0.5103\n",
      "Epoch 2/2\n",
      "1563/1563 [==============================] - 148s 94ms/step - loss: 0.9283 - accuracy: 0.6738\n"
     ]
    },
    {
     "data": {
      "text/plain": [
       "<keras.callbacks.History at 0x272b21115b0>"
      ]
     },
     "execution_count": 12,
     "metadata": {},
     "output_type": "execute_result"
    }
   ],
   "source": [
    "\n",
    "    cnn=models.Sequential([\n",
    "        layers.Conv2D(filters=32,input_shape=(32,32,3),kernel_size=(3,3),activation='relu'),\n",
    "        layers.MaxPooling2D((2,2)),\n",
    "\n",
    "        layers.Conv2D(filters=64,kernel_size=(3,3),activation='relu'),\n",
    "        layers.MaxPooling2D((2,2)),\n",
    "\n",
    "\n",
    "        layers.Flatten(),\n",
    "        layers.Dense(3000,activation='relu'),\n",
    "        layers.Dense(1000,activation='relu'),\n",
    "        layers.Dense(10,activation='sigmoid')\n",
    "    ])\n",
    "    cnn.compile(optimizer='adam',\n",
    "                  loss='sparse_categorical_crossentropy',\n",
    "                  metrics=['accuracy'])\n",
    "    cnn.fit(x_train,y_train,epochs=2)"
   ]
  },
  {
   "cell_type": "code",
   "execution_count": 13,
   "id": "e2e0d375",
   "metadata": {},
   "outputs": [
    {
     "name": "stdout",
     "output_type": "stream",
     "text": [
      "313/313 [==============================] - 7s 22ms/step\n",
      "              precision    recall  f1-score   support\n",
      "\n",
      "           0       0.79      0.67      0.72      1000\n",
      "           1       0.87      0.71      0.78      1000\n",
      "           2       0.73      0.43      0.55      1000\n",
      "           3       0.45      0.64      0.53      1000\n",
      "           4       0.57      0.70      0.63      1000\n",
      "           5       0.68      0.50      0.57      1000\n",
      "           6       0.80      0.71      0.75      1000\n",
      "           7       0.75      0.74      0.74      1000\n",
      "           8       0.68      0.88      0.76      1000\n",
      "           9       0.68      0.81      0.74      1000\n",
      "\n",
      "    accuracy                           0.68     10000\n",
      "   macro avg       0.70      0.68      0.68     10000\n",
      "weighted avg       0.70      0.68      0.68     10000\n",
      "\n"
     ]
    }
   ],
   "source": [
    "ypred1=cnn.predict(x_test)\n",
    "ypred1_class=[np.argmax(element) for element in ypred1]\n",
    "print(classification_report(y_test,ypred1_class))"
   ]
  },
  {
   "cell_type": "code",
   "execution_count": 14,
   "id": "13ffb22b",
   "metadata": {},
   "outputs": [],
   "source": [
    "tf.keras.models.save_model(cnn,'my_model.hdf5')"
   ]
  },
  {
   "cell_type": "code",
   "execution_count": 15,
   "id": "5ee6d21f",
   "metadata": {},
   "outputs": [
    {
     "name": "stdout",
     "output_type": "stream",
     "text": [
      "Requirement already satisfied: anvil in c:\\users\\ramu9\\anaconda3\\lib\\site-packages (0.0.2)\n",
      "Requirement already satisfied: pyyaml>=3.11 in c:\\users\\ramu9\\anaconda3\\lib\\site-packages (from anvil) (6.0)\n",
      "Requirement already satisfied: jinja2>=2.7.3 in c:\\users\\ramu9\\anaconda3\\lib\\site-packages (from anvil) (2.11.3)\n",
      "Requirement already satisfied: MarkupSafe>=0.23 in c:\\users\\ramu9\\anaconda3\\lib\\site-packages (from jinja2>=2.7.3->anvil) (2.0.1)\n",
      "Note: you may need to restart the kernel to use updated packages.\n"
     ]
    }
   ],
   "source": [
    "pip install anvil"
   ]
  },
  {
   "cell_type": "code",
   "execution_count": 1,
   "id": "bea162f4",
   "metadata": {},
   "outputs": [
    {
     "name": "stdout",
     "output_type": "stream",
     "text": [
      "Connecting to wss://anvil.works/uplink\n",
      "Anvil websocket open\n",
      "Connected to \"Default environment\" as SERVER\n"
     ]
    },
    {
     "name": "stderr",
     "output_type": "stream",
     "text": [
      "Exception in thread Thread-6:\n",
      "Traceback (most recent call last):\n",
      "  File \"C:\\Users\\ramu9\\anaconda3\\lib\\site-packages\\anvil\\server.py\", line 403, in call\n",
      "    return _do_call(args, kwargs, fn_name=fn_name)\n",
      "  File \"C:\\Users\\ramu9\\anaconda3\\lib\\site-packages\\anvil\\server.py\", line 395, in _do_call\n",
      "    return _threaded_server.do_call(args, kwargs, fn_name=fn_name, live_object=live_object)\n",
      "  File \"C:\\Users\\ramu9\\anaconda3\\lib\\site-packages\\anvil\\_threaded_server.py\", line 435, in do_call\n",
      "    raise error_from_server\n",
      "anvil._server.AnvilWrappedError: 'Connection to Anvil Uplink server lost'\n",
      "\n",
      "During handling of the above exception, another exception occurred:\n",
      "\n",
      "Traceback (most recent call last):\n",
      "  File \"C:\\Users\\ramu9\\anaconda3\\lib\\threading.py\", line 973, in _bootstrap_inner\n",
      "    self.run()\n",
      "  File \"C:\\Users\\ramu9\\anaconda3\\lib\\threading.py\", line 910, in run\n",
      "    self._target(*self._args, **self._kwargs)\n",
      "  File \"C:\\Users\\ramu9\\anaconda3\\lib\\site-packages\\anvil\\server.py\", line 206, in heartbeat_until_reopened\n",
      "    call(\"anvil.private.echo\", \"keep-alive\")\n",
      "  File \"C:\\Users\\ramu9\\anaconda3\\lib\\site-packages\\anvil\\server.py\", line 406, in call\n",
      "    raise _server._deserialise_exception(e.error_obj)\n",
      "anvil._server.AnvilWrappedError: 'Connection to Anvil Uplink server lost'\n"
     ]
    },
    {
     "name": "stdout",
     "output_type": "stream",
     "text": [
      "Anvil websocket closed (code 1006, reason=Going away)\n",
      "Reconnecting Anvil Uplink...\n",
      "Connecting to wss://anvil.works/uplink\n",
      "Anvil websocket open\n",
      "Connected to \"Default environment\" as SERVER\n",
      "Anvil websocket closed (code 1006, reason=Going away)\n",
      "Reconnecting Anvil Uplink...\n",
      "Connecting to wss://anvil.works/uplink\n"
     ]
    }
   ],
   "source": [
    "import anvil.server\n",
    " \n",
    "anvil.server.connect(\"GM3E376EZZN3X4LSMSCBHK4C-YNUBULJY5MQFUQYG\")    "
   ]
  },
  {
   "cell_type": "code",
   "execution_count": 17,
   "id": "a9855552",
   "metadata": {},
   "outputs": [
    {
     "name": "stdout",
     "output_type": "stream",
     "text": [
      "1/1 [==============================] - 0s 16ms/step\n",
      "dog\n",
      "1/1 [==============================] - 0s 16ms/step\n",
      "ship\n",
      "1/1 [==============================] - 0s 22ms/step\n",
      "aeroplane\n",
      "1/1 [==============================] - 0s 20ms/step\n",
      "aeroplane\n",
      "1/1 [==============================] - 0s 19ms/step\n",
      "dog\n"
     ]
    }
   ],
   "source": [
    "import anvil.media\n",
    "import numpy as np\n",
    "from tensorflow.keras.preprocessing.image import img_to_array\n",
    "from tensorflow.keras.models import load_model\n",
    "import PIL\n",
    "from PIL import Image, ImageOps\n",
    "from tensorflow.keras.preprocessing.image import load_img\n",
    "@anvil.server.callable\n",
    "def classify_image(file):\n",
    "    with anvil.media.TempFile(file) as filename:\n",
    "        img = load_img(filename)\n",
    "        \n",
    "        \n",
    "    img=img.resize((32,32),resample=PIL.Image.BICUBIC) \n",
    "    arr=img_to_array(img)\n",
    "    arr=np.expand_dims(arr,axis=0)\n",
    "    arr /=255.0\n",
    "    score=cnn.predict(arr)\n",
    "    print(classes[np.argmax(score)])\n",
    "    return classes[np.argmax(score)]"
   ]
  },
  {
   "cell_type": "code",
   "execution_count": null,
   "id": "d955c04e",
   "metadata": {},
   "outputs": [],
   "source": []
  },
  {
   "cell_type": "code",
   "execution_count": null,
   "id": "4723c79e",
   "metadata": {},
   "outputs": [],
   "source": []
  },
  {
   "cell_type": "code",
   "execution_count": null,
   "id": "d6c79de2",
   "metadata": {},
   "outputs": [],
   "source": []
  }
 ],
 "metadata": {
  "kernelspec": {
   "display_name": "Python 3 (ipykernel)",
   "language": "python",
   "name": "python3"
  },
  "language_info": {
   "codemirror_mode": {
    "name": "ipython",
    "version": 3
   },
   "file_extension": ".py",
   "mimetype": "text/x-python",
   "name": "python",
   "nbconvert_exporter": "python",
   "pygments_lexer": "ipython3",
   "version": "3.9.12"
  }
 },
 "nbformat": 4,
 "nbformat_minor": 5
}
